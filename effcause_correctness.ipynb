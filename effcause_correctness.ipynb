{
 "cells": [
  {
   "cell_type": "code",
   "execution_count": 208,
   "id": "6a6d10c8",
   "metadata": {
    "ExecuteTime": {
     "end_time": "2021-09-20T12:01:10.700463Z",
     "start_time": "2021-09-20T12:01:10.596392Z"
    }
   },
   "outputs": [
    {
     "name": "stdout",
     "output_type": "stream",
     "text": [
      "The line_profiler extension is already loaded. To reload it, use:\n",
      "  %reload_ext line_profiler\n",
      "The autoreload extension is already loaded. To reload it, use:\n",
      "  %reload_ext autoreload\n"
     ]
    }
   ],
   "source": [
    "%load_ext line_profiler\n",
    "%load_ext autoreload\n",
    "%autoreload 2\n",
    "from main_dycause_mp_new import *\n",
    "from main_effcause import effcause_causal_discover\n",
    "\n",
    "import matplotlib.pyplot as plt\n",
    "from tqdm.auto import tqdm\n",
    "from multiprocessing import Pool, RLock, freeze_support\n",
    "\n",
    "import time\n",
    "import datetime\n",
    "import pandas as pd\n",
    "import os\n",
    "import numpy as np\n",
    "import random\n",
    "import networkx as nx\n",
    "from sklearn import metrics as skmetrics\n",
    "import pickle\n",
    "\n",
    "\n",
    "from matplotlib import rcParams\n",
    "rcParams['font.family'] = 'sans-serif'\n",
    "# rcParams['font.sans-serif'] = ['Arial']\n",
    "rcParams['pdf.fonttype'] = 42\n",
    "rcParams['ps.fonttype'] = 42\n",
    "plt.style.use('default')\n",
    "\n",
    "freeze_support()  # for Windows support\n",
    "tqdm.set_lock(RLock())  # for managing output contention"
   ]
  },
  {
   "cell_type": "code",
   "execution_count": 2,
   "id": "9b45a159",
   "metadata": {
    "ExecuteTime": {
     "end_time": "2021-09-13T11:38:09.199466Z",
     "start_time": "2021-09-13T11:38:08.935054Z"
    }
   },
   "outputs": [],
   "source": [
    "from utility_funcs.proc_data import load_tcdf_data\n",
    "\n",
    "datasets, gt_graphs = load_tcdf_data(dir=\"finance\")"
   ]
  },
  {
   "cell_type": "code",
   "execution_count": 3,
   "id": "a5e93c0c",
   "metadata": {
    "ExecuteTime": {
     "end_time": "2021-09-13T11:38:10.148196Z",
     "start_time": "2021-09-13T11:38:10.074790Z"
    }
   },
   "outputs": [
    {
     "data": {
      "text/html": [
       "<div>\n",
       "<style scoped>\n",
       "    .dataframe tbody tr th:only-of-type {\n",
       "        vertical-align: middle;\n",
       "    }\n",
       "\n",
       "    .dataframe tbody tr th {\n",
       "        vertical-align: top;\n",
       "    }\n",
       "\n",
       "    .dataframe thead th {\n",
       "        text-align: right;\n",
       "    }\n",
       "</style>\n",
       "<table border=\"1\" class=\"dataframe\">\n",
       "  <thead>\n",
       "    <tr style=\"text-align: right;\">\n",
       "      <th></th>\n",
       "      <th>S0</th>\n",
       "      <th>S1</th>\n",
       "      <th>S2</th>\n",
       "      <th>S3</th>\n",
       "      <th>S4</th>\n",
       "      <th>S5</th>\n",
       "      <th>S6</th>\n",
       "      <th>S7</th>\n",
       "      <th>S8</th>\n",
       "      <th>S9</th>\n",
       "      <th>...</th>\n",
       "      <th>S15</th>\n",
       "      <th>S16</th>\n",
       "      <th>S17</th>\n",
       "      <th>S18</th>\n",
       "      <th>S19</th>\n",
       "      <th>S20</th>\n",
       "      <th>S21</th>\n",
       "      <th>S22</th>\n",
       "      <th>S23</th>\n",
       "      <th>S24</th>\n",
       "    </tr>\n",
       "  </thead>\n",
       "  <tbody>\n",
       "    <tr>\n",
       "      <th>0</th>\n",
       "      <td>0.129999</td>\n",
       "      <td>0.991586</td>\n",
       "      <td>0.490534</td>\n",
       "      <td>1.030064</td>\n",
       "      <td>0.444978</td>\n",
       "      <td>1.208354</td>\n",
       "      <td>0.827543</td>\n",
       "      <td>1.338010</td>\n",
       "      <td>0.759437</td>\n",
       "      <td>0.541619</td>\n",
       "      <td>...</td>\n",
       "      <td>-0.089528</td>\n",
       "      <td>0.507956</td>\n",
       "      <td>0.988139</td>\n",
       "      <td>0.987901</td>\n",
       "      <td>0.310424</td>\n",
       "      <td>-0.029630</td>\n",
       "      <td>0.371462</td>\n",
       "      <td>0.130385</td>\n",
       "      <td>-0.287957</td>\n",
       "      <td>-0.757097</td>\n",
       "    </tr>\n",
       "    <tr>\n",
       "      <th>1</th>\n",
       "      <td>0.117729</td>\n",
       "      <td>-0.303972</td>\n",
       "      <td>-1.082923</td>\n",
       "      <td>-0.695533</td>\n",
       "      <td>-0.071504</td>\n",
       "      <td>-0.692810</td>\n",
       "      <td>0.102175</td>\n",
       "      <td>-0.669950</td>\n",
       "      <td>-0.587785</td>\n",
       "      <td>-0.168711</td>\n",
       "      <td>...</td>\n",
       "      <td>-0.532579</td>\n",
       "      <td>-0.594185</td>\n",
       "      <td>-0.396401</td>\n",
       "      <td>-0.735928</td>\n",
       "      <td>-1.771136</td>\n",
       "      <td>-0.548579</td>\n",
       "      <td>-0.357340</td>\n",
       "      <td>-0.914606</td>\n",
       "      <td>-0.480977</td>\n",
       "      <td>-0.567342</td>\n",
       "    </tr>\n",
       "    <tr>\n",
       "      <th>2</th>\n",
       "      <td>-0.990932</td>\n",
       "      <td>-1.090502</td>\n",
       "      <td>-0.730285</td>\n",
       "      <td>-0.278989</td>\n",
       "      <td>0.345468</td>\n",
       "      <td>-0.935047</td>\n",
       "      <td>-0.460561</td>\n",
       "      <td>-0.421315</td>\n",
       "      <td>0.100106</td>\n",
       "      <td>-0.831737</td>\n",
       "      <td>...</td>\n",
       "      <td>-0.572841</td>\n",
       "      <td>-0.885619</td>\n",
       "      <td>-0.508891</td>\n",
       "      <td>-0.243055</td>\n",
       "      <td>-0.105957</td>\n",
       "      <td>-0.482223</td>\n",
       "      <td>-0.492560</td>\n",
       "      <td>-0.204166</td>\n",
       "      <td>0.382463</td>\n",
       "      <td>-0.550881</td>\n",
       "    </tr>\n",
       "    <tr>\n",
       "      <th>3</th>\n",
       "      <td>1.940631</td>\n",
       "      <td>2.009416</td>\n",
       "      <td>1.683663</td>\n",
       "      <td>1.134586</td>\n",
       "      <td>1.794349</td>\n",
       "      <td>1.398274</td>\n",
       "      <td>-0.106631</td>\n",
       "      <td>1.671531</td>\n",
       "      <td>1.490054</td>\n",
       "      <td>2.175950</td>\n",
       "      <td>...</td>\n",
       "      <td>1.880062</td>\n",
       "      <td>1.461646</td>\n",
       "      <td>1.817153</td>\n",
       "      <td>1.704725</td>\n",
       "      <td>2.065767</td>\n",
       "      <td>1.524978</td>\n",
       "      <td>1.665820</td>\n",
       "      <td>1.425453</td>\n",
       "      <td>2.211056</td>\n",
       "      <td>1.526384</td>\n",
       "    </tr>\n",
       "    <tr>\n",
       "      <th>4</th>\n",
       "      <td>0.788248</td>\n",
       "      <td>0.093302</td>\n",
       "      <td>-0.032045</td>\n",
       "      <td>0.589187</td>\n",
       "      <td>0.616736</td>\n",
       "      <td>0.390370</td>\n",
       "      <td>0.965328</td>\n",
       "      <td>0.542184</td>\n",
       "      <td>-0.203809</td>\n",
       "      <td>1.290335</td>\n",
       "      <td>...</td>\n",
       "      <td>-0.238918</td>\n",
       "      <td>0.637504</td>\n",
       "      <td>0.212562</td>\n",
       "      <td>0.933164</td>\n",
       "      <td>0.650985</td>\n",
       "      <td>-0.660012</td>\n",
       "      <td>0.247150</td>\n",
       "      <td>0.771785</td>\n",
       "      <td>0.256871</td>\n",
       "      <td>-0.510581</td>\n",
       "    </tr>\n",
       "    <tr>\n",
       "      <th>...</th>\n",
       "      <td>...</td>\n",
       "      <td>...</td>\n",
       "      <td>...</td>\n",
       "      <td>...</td>\n",
       "      <td>...</td>\n",
       "      <td>...</td>\n",
       "      <td>...</td>\n",
       "      <td>...</td>\n",
       "      <td>...</td>\n",
       "      <td>...</td>\n",
       "      <td>...</td>\n",
       "      <td>...</td>\n",
       "      <td>...</td>\n",
       "      <td>...</td>\n",
       "      <td>...</td>\n",
       "      <td>...</td>\n",
       "      <td>...</td>\n",
       "      <td>...</td>\n",
       "      <td>...</td>\n",
       "      <td>...</td>\n",
       "      <td>...</td>\n",
       "    </tr>\n",
       "    <tr>\n",
       "      <th>3995</th>\n",
       "      <td>0.559481</td>\n",
       "      <td>0.914032</td>\n",
       "      <td>0.613992</td>\n",
       "      <td>0.271723</td>\n",
       "      <td>0.285446</td>\n",
       "      <td>-0.531469</td>\n",
       "      <td>0.232266</td>\n",
       "      <td>-0.161830</td>\n",
       "      <td>-0.049497</td>\n",
       "      <td>0.498747</td>\n",
       "      <td>...</td>\n",
       "      <td>-0.265284</td>\n",
       "      <td>0.477328</td>\n",
       "      <td>0.498301</td>\n",
       "      <td>0.386230</td>\n",
       "      <td>0.125227</td>\n",
       "      <td>0.309916</td>\n",
       "      <td>0.743697</td>\n",
       "      <td>0.417331</td>\n",
       "      <td>-0.077563</td>\n",
       "      <td>0.558236</td>\n",
       "    </tr>\n",
       "    <tr>\n",
       "      <th>3996</th>\n",
       "      <td>-0.417690</td>\n",
       "      <td>0.164793</td>\n",
       "      <td>0.077312</td>\n",
       "      <td>0.342314</td>\n",
       "      <td>-0.045468</td>\n",
       "      <td>0.921652</td>\n",
       "      <td>-0.211022</td>\n",
       "      <td>-0.339971</td>\n",
       "      <td>-0.496297</td>\n",
       "      <td>-0.126481</td>\n",
       "      <td>...</td>\n",
       "      <td>-0.859952</td>\n",
       "      <td>-0.550708</td>\n",
       "      <td>-0.918429</td>\n",
       "      <td>-0.519199</td>\n",
       "      <td>-0.806427</td>\n",
       "      <td>-0.294195</td>\n",
       "      <td>-1.218502</td>\n",
       "      <td>-1.511831</td>\n",
       "      <td>-0.723482</td>\n",
       "      <td>-1.860905</td>\n",
       "    </tr>\n",
       "    <tr>\n",
       "      <th>3997</th>\n",
       "      <td>-0.170097</td>\n",
       "      <td>0.456529</td>\n",
       "      <td>0.046664</td>\n",
       "      <td>0.206752</td>\n",
       "      <td>-0.498837</td>\n",
       "      <td>0.485043</td>\n",
       "      <td>-0.093383</td>\n",
       "      <td>-0.310373</td>\n",
       "      <td>0.035225</td>\n",
       "      <td>-0.086602</td>\n",
       "      <td>...</td>\n",
       "      <td>-0.183991</td>\n",
       "      <td>-0.077597</td>\n",
       "      <td>-0.149101</td>\n",
       "      <td>-0.421050</td>\n",
       "      <td>-0.365082</td>\n",
       "      <td>0.104056</td>\n",
       "      <td>-0.315758</td>\n",
       "      <td>0.006479</td>\n",
       "      <td>0.686833</td>\n",
       "      <td>0.183096</td>\n",
       "    </tr>\n",
       "    <tr>\n",
       "      <th>3998</th>\n",
       "      <td>-0.743060</td>\n",
       "      <td>-1.238800</td>\n",
       "      <td>-1.334410</td>\n",
       "      <td>-0.402677</td>\n",
       "      <td>-0.753884</td>\n",
       "      <td>-0.548000</td>\n",
       "      <td>-0.395417</td>\n",
       "      <td>-0.694155</td>\n",
       "      <td>-0.786199</td>\n",
       "      <td>-1.121678</td>\n",
       "      <td>...</td>\n",
       "      <td>-0.810432</td>\n",
       "      <td>-0.842492</td>\n",
       "      <td>-1.000272</td>\n",
       "      <td>-1.717997</td>\n",
       "      <td>-0.732746</td>\n",
       "      <td>-1.382089</td>\n",
       "      <td>-1.255228</td>\n",
       "      <td>-1.552549</td>\n",
       "      <td>-1.158471</td>\n",
       "      <td>-1.515338</td>\n",
       "    </tr>\n",
       "    <tr>\n",
       "      <th>3999</th>\n",
       "      <td>-0.933518</td>\n",
       "      <td>-0.860088</td>\n",
       "      <td>-0.356202</td>\n",
       "      <td>-0.815427</td>\n",
       "      <td>-0.827355</td>\n",
       "      <td>-2.176443</td>\n",
       "      <td>-0.864946</td>\n",
       "      <td>-0.800087</td>\n",
       "      <td>-1.109259</td>\n",
       "      <td>-0.418105</td>\n",
       "      <td>...</td>\n",
       "      <td>-1.104623</td>\n",
       "      <td>0.003174</td>\n",
       "      <td>0.252102</td>\n",
       "      <td>0.445845</td>\n",
       "      <td>0.229988</td>\n",
       "      <td>0.687197</td>\n",
       "      <td>0.396420</td>\n",
       "      <td>0.365908</td>\n",
       "      <td>0.475025</td>\n",
       "      <td>0.006614</td>\n",
       "    </tr>\n",
       "  </tbody>\n",
       "</table>\n",
       "<p>4000 rows × 25 columns</p>\n",
       "</div>"
      ],
      "text/plain": [
       "            S0        S1        S2        S3        S4        S5        S6  \\\n",
       "0     0.129999  0.991586  0.490534  1.030064  0.444978  1.208354  0.827543   \n",
       "1     0.117729 -0.303972 -1.082923 -0.695533 -0.071504 -0.692810  0.102175   \n",
       "2    -0.990932 -1.090502 -0.730285 -0.278989  0.345468 -0.935047 -0.460561   \n",
       "3     1.940631  2.009416  1.683663  1.134586  1.794349  1.398274 -0.106631   \n",
       "4     0.788248  0.093302 -0.032045  0.589187  0.616736  0.390370  0.965328   \n",
       "...        ...       ...       ...       ...       ...       ...       ...   \n",
       "3995  0.559481  0.914032  0.613992  0.271723  0.285446 -0.531469  0.232266   \n",
       "3996 -0.417690  0.164793  0.077312  0.342314 -0.045468  0.921652 -0.211022   \n",
       "3997 -0.170097  0.456529  0.046664  0.206752 -0.498837  0.485043 -0.093383   \n",
       "3998 -0.743060 -1.238800 -1.334410 -0.402677 -0.753884 -0.548000 -0.395417   \n",
       "3999 -0.933518 -0.860088 -0.356202 -0.815427 -0.827355 -2.176443 -0.864946   \n",
       "\n",
       "            S7        S8        S9  ...       S15       S16       S17  \\\n",
       "0     1.338010  0.759437  0.541619  ... -0.089528  0.507956  0.988139   \n",
       "1    -0.669950 -0.587785 -0.168711  ... -0.532579 -0.594185 -0.396401   \n",
       "2    -0.421315  0.100106 -0.831737  ... -0.572841 -0.885619 -0.508891   \n",
       "3     1.671531  1.490054  2.175950  ...  1.880062  1.461646  1.817153   \n",
       "4     0.542184 -0.203809  1.290335  ... -0.238918  0.637504  0.212562   \n",
       "...        ...       ...       ...  ...       ...       ...       ...   \n",
       "3995 -0.161830 -0.049497  0.498747  ... -0.265284  0.477328  0.498301   \n",
       "3996 -0.339971 -0.496297 -0.126481  ... -0.859952 -0.550708 -0.918429   \n",
       "3997 -0.310373  0.035225 -0.086602  ... -0.183991 -0.077597 -0.149101   \n",
       "3998 -0.694155 -0.786199 -1.121678  ... -0.810432 -0.842492 -1.000272   \n",
       "3999 -0.800087 -1.109259 -0.418105  ... -1.104623  0.003174  0.252102   \n",
       "\n",
       "           S18       S19       S20       S21       S22       S23       S24  \n",
       "0     0.987901  0.310424 -0.029630  0.371462  0.130385 -0.287957 -0.757097  \n",
       "1    -0.735928 -1.771136 -0.548579 -0.357340 -0.914606 -0.480977 -0.567342  \n",
       "2    -0.243055 -0.105957 -0.482223 -0.492560 -0.204166  0.382463 -0.550881  \n",
       "3     1.704725  2.065767  1.524978  1.665820  1.425453  2.211056  1.526384  \n",
       "4     0.933164  0.650985 -0.660012  0.247150  0.771785  0.256871 -0.510581  \n",
       "...        ...       ...       ...       ...       ...       ...       ...  \n",
       "3995  0.386230  0.125227  0.309916  0.743697  0.417331 -0.077563  0.558236  \n",
       "3996 -0.519199 -0.806427 -0.294195 -1.218502 -1.511831 -0.723482 -1.860905  \n",
       "3997 -0.421050 -0.365082  0.104056 -0.315758  0.006479  0.686833  0.183096  \n",
       "3998 -1.717997 -0.732746 -1.382089 -1.255228 -1.552549 -1.158471 -1.515338  \n",
       "3999  0.445845  0.229988  0.687197  0.396420  0.365908  0.475025  0.006614  \n",
       "\n",
       "[4000 rows x 25 columns]"
      ]
     },
     "execution_count": 3,
     "metadata": {},
     "output_type": "execute_result"
    }
   ],
   "source": [
    "datasets[0]"
   ]
  },
  {
   "cell_type": "code",
   "execution_count": 38,
   "id": "94e264d3",
   "metadata": {
    "ExecuteTime": {
     "end_time": "2021-09-15T07:50:36.962873Z",
     "start_time": "2021-09-15T07:50:36.796254Z"
    }
   },
   "outputs": [],
   "source": [
    "data = datasets[0].to_numpy()[:,:2]"
   ]
  },
  {
   "cell_type": "code",
   "execution_count": 173,
   "id": "241f6665",
   "metadata": {
    "ExecuteTime": {
     "end_time": "2021-09-16T02:17:38.984666Z",
     "start_time": "2021-09-16T02:17:24.108502Z"
    },
    "code_folding": [],
    "scrolled": false
   },
   "outputs": [
    {
     "name": "stderr",
     "output_type": "stream",
     "text": [
      "2021-09-16 02:17:24,153 WARNING: granger_analyze(...) doesn't have enough parameters to name the cache file. Disabling caching.\n",
      "2021-09-16 02:17:25,808 WARNING: granger_analyze(...) doesn't have enough parameters to name the cache file. Disabling caching.\n"
     ]
    },
    {
     "name": "stdout",
     "output_type": "stream",
     "text": [
      "   2\t1.113411\t0.527139\n"
     ]
    },
    {
     "name": "stderr",
     "output_type": "stream",
     "text": [
      "2021-09-16 02:17:27,159 WARNING: granger_analyze(...) doesn't have enough parameters to name the cache file. Disabling caching.\n"
     ]
    },
    {
     "name": "stdout",
     "output_type": "stream",
     "text": [
      "   2\t0.800734\t0.535814\n"
     ]
    },
    {
     "name": "stderr",
     "output_type": "stream",
     "text": [
      "2021-09-16 02:17:28,838 WARNING: granger_analyze(...) doesn't have enough parameters to name the cache file. Disabling caching.\n"
     ]
    },
    {
     "name": "stdout",
     "output_type": "stream",
     "text": [
      "   2\t1.118192\t0.545071\n"
     ]
    },
    {
     "name": "stderr",
     "output_type": "stream",
     "text": [
      "2021-09-16 02:17:30,809 WARNING: granger_analyze(...) doesn't have enough parameters to name the cache file. Disabling caching.\n"
     ]
    },
    {
     "name": "stdout",
     "output_type": "stream",
     "text": [
      "   2\t0.787835\t0.397143\n"
     ]
    },
    {
     "name": "stderr",
     "output_type": "stream",
     "text": [
      "2021-09-16 02:17:32,146 WARNING: granger_analyze(...) doesn't have enough parameters to name the cache file. Disabling caching.\n"
     ]
    },
    {
     "name": "stdout",
     "output_type": "stream",
     "text": [
      "   2\t0.783579\t0.539648\n"
     ]
    },
    {
     "name": "stderr",
     "output_type": "stream",
     "text": [
      "2021-09-16 02:17:33,467 WARNING: granger_analyze(...) doesn't have enough parameters to name the cache file. Disabling caching.\n"
     ]
    },
    {
     "name": "stdout",
     "output_type": "stream",
     "text": [
      "   2\t0.724877\t0.581287\n"
     ]
    },
    {
     "name": "stderr",
     "output_type": "stream",
     "text": [
      "2021-09-16 02:17:34,817 WARNING: granger_analyze(...) doesn't have enough parameters to name the cache file. Disabling caching.\n"
     ]
    },
    {
     "name": "stdout",
     "output_type": "stream",
     "text": [
      "   2\t0.805574\t0.529351\n"
     ]
    },
    {
     "name": "stderr",
     "output_type": "stream",
     "text": [
      "2021-09-16 02:17:36,267 WARNING: granger_analyze(...) doesn't have enough parameters to name the cache file. Disabling caching.\n"
     ]
    },
    {
     "name": "stdout",
     "output_type": "stream",
     "text": [
      "   2\t0.935787\t0.500805\n"
     ]
    },
    {
     "name": "stderr",
     "output_type": "stream",
     "text": [
      "2021-09-16 02:17:37,661 WARNING: granger_analyze(...) doesn't have enough parameters to name the cache file. Disabling caching.\n"
     ]
    },
    {
     "name": "stdout",
     "output_type": "stream",
     "text": [
      "   2\t0.789369\t0.589142\n",
      "   2\t0.822122\t0.484148\n"
     ]
    }
   ],
   "source": [
    "a = []\n",
    "for test_round in range(10):\n",
    "    for var_num in range(2, 3):\n",
    "        data = datasets[0].to_numpy()[:,:var_num]\n",
    "        verbose=0\n",
    "        step=500\n",
    "        lag=5\n",
    "        local_results_dy, dcc_dy, mat_dy, time_stat_dict_dy = dycause_causal_discover(\n",
    "            # Data params\n",
    "            data[:, :],\n",
    "            # Granger interval based graph construction params\n",
    "            step=step,\n",
    "            significant_thres=0.1,\n",
    "            lag=lag,  # must satisfy: step > 3 * lag + 1\n",
    "            adaptive_threshold=0.7,\n",
    "            use_multiprocess=True,\n",
    "            max_workers=3,\n",
    "            opt_method=\"fast_version_3\",\n",
    "            # Debug_params\n",
    "            verbose=verbose,\n",
    "            runtime_debug=True,\n",
    "        )\n",
    "\n",
    "        local_results_eff, dcc_eff, mat_eff, time_stat_dict_eff = effcause_causal_discover(\n",
    "            # Data params\n",
    "            data[:, :],\n",
    "            # Granger interval based graph construction params\n",
    "            step=step,\n",
    "            significant_thres=0.1,\n",
    "            lag=lag,  # must satisfy: step > 3 * lag + 1\n",
    "            adaptive_threshold=0.7,\n",
    "            use_multiprocess=True,\n",
    "            max_workers=3,\n",
    "            reuse_invdirection=True,\n",
    "            rolling_method=\"pyc\",\n",
    "            # Debug_params\n",
    "            verbose=verbose,\n",
    "            runtime_debug=True,\n",
    "        )\n",
    "\n",
    "        print(\"{:4d}\\t{:.6f}\\t{:.6f}\".format(var_num, \n",
    "              time_stat_dict_dy['Construct-Impact-Graph-Phase'], \n",
    "              time_stat_dict_eff['Construct-Impact-Graph-Phase']))\n",
    "        a.append((time_stat_dict_dy['Construct-Impact-Graph-Phase'], \n",
    "                  time_stat_dict_eff['Construct-Impact-Graph-Phase']))"
   ]
  },
  {
   "cell_type": "code",
   "execution_count": 174,
   "id": "47298c34",
   "metadata": {
    "ExecuteTime": {
     "end_time": "2021-09-16T02:19:42.318407Z",
     "start_time": "2021-09-16T02:19:42.268091Z"
    },
    "code_folding": []
   },
   "outputs": [
    {
     "name": "stdout",
     "output_type": "stream",
     "text": [
      "0.8681±0.1335\n",
      "0.5230±0.0516\n",
      "1.6601\n"
     ]
    }
   ],
   "source": [
    "_ = np.array(a)\n",
    "mean = np.mean(_, axis=0)\n",
    "std = np.std(_, axis=0)\n",
    "for i in range(2):\n",
    "    print(\"{:.4f}±{:.4f}\".format(mean[i], std[i]))\n",
    "print(\"{:.4f}\".format(mean[0]/mean[1]))"
   ]
  },
  {
   "cell_type": "markdown",
   "id": "6d634c4b",
   "metadata": {},
   "source": [
    "| Var Num | DyCause (s) | EffCause (s) | Method | Ratio |\n",
    "| :- | :- | :- | :- | :- | \n",
    "| 2 | 2.1124±0.2392 | 1.7446±0.4436 | zyf | 1.2108 |\n",
    "| 2 | 0.8519±0.1156 | 0.5163±0.0911 | zyf(inv) | 1.6501 |\n",
    "| 2 | 3.0117±0.5744 | 2.8619±0.5389 | pyc | 1.0524 |\n",
    "| 2 | 0.8681±0.1335 | 0.5230±0.0516 | pyc(inv) | 1.6601 |"
   ]
  },
  {
   "cell_type": "code",
   "execution_count": 45,
   "id": "e2818c45",
   "metadata": {
    "ExecuteTime": {
     "end_time": "2021-09-15T08:02:31.758227Z",
     "start_time": "2021-09-15T08:02:31.656479Z"
    },
    "scrolled": true
   },
   "outputs": [
    {
     "data": {
      "text/plain": [
       "array([1.80641004, 2.20472284, 2.29374041, 2.40512535, 2.23543593,\n",
       "       1.85529114, 1.84315557, 1.49414455])"
      ]
     },
     "execution_count": 45,
     "metadata": {},
     "output_type": "execute_result"
    }
   ],
   "source": [
    "# reuse_invdirection=True\n",
    "b = np.array(a)\n",
    "b[:, 0] / b[:, 1]"
   ]
  },
  {
   "cell_type": "code",
   "execution_count": 47,
   "id": "c07d4c85",
   "metadata": {
    "ExecuteTime": {
     "end_time": "2021-09-15T08:21:59.215098Z",
     "start_time": "2021-09-15T08:21:59.077525Z"
    }
   },
   "outputs": [
    {
     "data": {
      "text/plain": [
       "array([1.52598828, 1.26172153, 1.04947368, 1.99088443, 1.28117348,\n",
       "       0.82741482, 1.08128527, 1.08730268])"
      ]
     },
     "execution_count": 47,
     "metadata": {},
     "output_type": "execute_result"
    }
   ],
   "source": [
    "# reuse_invdirection=False\n",
    "b = np.array(a)\n",
    "b[:, 0] / b[:, 1]"
   ]
  },
  {
   "cell_type": "code",
   "execution_count": null,
   "id": "f6132ffa",
   "metadata": {
    "ExecuteTime": {
     "end_time": "2021-09-13T08:47:19.806462Z",
     "start_time": "2021-09-13T08:47:19.729852Z"
    }
   },
   "outputs": [],
   "source": [
    "local_results_dy"
   ]
  },
  {
   "cell_type": "code",
   "execution_count": 40,
   "id": "a7815c53",
   "metadata": {
    "ExecuteTime": {
     "end_time": "2021-09-15T07:50:56.458992Z",
     "start_time": "2021-09-15T07:50:54.704853Z"
    },
    "scrolled": true
   },
   "outputs": [
    {
     "name": "stdout",
     "output_type": "stream",
     "text": [
      "------------------------------------EffCause------------------------------------\n",
      "--------------------EffCause impact graph construction phase--------------------\n",
      "          Calculating granger intervals:\n",
      "               data shape   :(4000, 2)\n",
      "               lag          :5\n",
      "               significant  :0.1\n",
      "               step         :500\n",
      "               min len      :500\n",
      "               max len      :4000\n",
      "               method       :v2\n",
      "               segment split: [0, 500, 1000, 1500, 2000, 2500, 3000, 3500, 4000]\n",
      "ProcessPoolExecutor starts.\n",
      "\n",
      "          Saving runtime data to time_stat_dict_20210915_155056.pkl\n",
      "1.6861674785614014\n"
     ]
    }
   ],
   "source": [
    "local_results_eff, dcc_eff, mat_eff, time_stat_dict_eff = effcause_causal_discover(\n",
    "    # Data params\n",
    "    data[:, :],\n",
    "    # Granger interval based graph construction params\n",
    "    step=500,\n",
    "    significant_thres=0.1,\n",
    "    lag=5,  # must satisfy: step > 3 * lag + 1\n",
    "    adaptive_threshold=0.7,\n",
    "    use_multiprocess=True,\n",
    "    max_workers=3,\n",
    "    reuse_invdirection=True,\n",
    "    # Debug_params\n",
    "    verbose=True,\n",
    "    runtime_debug=True,\n",
    ")\n",
    "\n",
    "print(time_stat_dict_eff['Construct-Impact-Graph-Phase'])"
   ]
  },
  {
   "cell_type": "code",
   "execution_count": 71,
   "id": "7a92adeb",
   "metadata": {
    "ExecuteTime": {
     "end_time": "2021-09-15T09:03:42.055856Z",
     "start_time": "2021-09-15T09:03:41.916888Z"
    }
   },
   "outputs": [
    {
     "data": {
      "text/plain": [
       "<map at 0x7fa009dee5d0>"
      ]
     },
     "execution_count": 71,
     "metadata": {},
     "output_type": "execute_result"
    }
   ],
   "source": []
  },
  {
   "cell_type": "code",
   "execution_count": 179,
   "id": "5f3f8ca5",
   "metadata": {
    "ExecuteTime": {
     "end_time": "2021-09-16T02:20:27.679293Z",
     "start_time": "2021-09-16T02:20:27.616588Z"
    },
    "scrolled": true
   },
   "outputs": [
    {
     "name": "stdout",
     "output_type": "stream",
     "text": [
      "              0            1            2            3            4            5            6            7            8\n",
      "--  -----------  -----------  -----------  -----------  -----------  -----------  -----------  -----------  -----------\n",
      " 0  -2.0000e+00   4.5963e-05   1.8200e-07   1.2780e-05   5.6550e-08   1.0983e-09   8.0132e-12   1.5195e-10   1.6994e-11\n",
      " 1  -2.0000e+00  -2.0000e+00   5.2833e-03   6.1762e-03   3.6189e-05   8.0760e-07   7.8919e-09   5.6490e-08   6.3251e-09\n",
      " 2  -2.0000e+00  -2.0000e+00  -2.0000e+00   9.7676e-03   3.9634e-04   2.3017e-05   3.1478e-07   4.1797e-06   5.0128e-07\n",
      " 3  -2.0000e+00  -2.0000e+00  -2.0000e+00  -2.0000e+00   6.9257e-03   1.7007e-04   1.5843e-06   1.1390e-05   1.2253e-06\n",
      " 4  -2.0000e+00  -2.0000e+00  -2.0000e+00  -2.0000e+00  -2.0000e+00   1.1682e-01   8.7523e-04   2.0774e-03   3.4875e-04\n",
      " 5  -2.0000e+00  -2.0000e+00  -2.0000e+00  -2.0000e+00  -2.0000e+00  -2.0000e+00   5.7881e-03   2.8336e-02   6.3221e-03\n",
      " 6  -2.0000e+00  -2.0000e+00  -2.0000e+00  -2.0000e+00  -2.0000e+00  -2.0000e+00  -2.0000e+00   1.5235e-03   4.8867e-03\n",
      " 7  -2.0000e+00  -2.0000e+00  -2.0000e+00  -2.0000e+00  -2.0000e+00  -2.0000e+00  -2.0000e+00  -2.0000e+00   3.9202e-02\n",
      " 8  -2.0000e+00  -2.0000e+00  -2.0000e+00  -2.0000e+00  -2.0000e+00  -2.0000e+00  -2.0000e+00  -2.0000e+00  -2.0000e+00\n"
     ]
    }
   ],
   "source": [
    "# local_results_dy['1->0']\n",
    "import tabulate\n",
    "res = local_results_dy['0->1']['result_YX']\n",
    "print(tabulate.tabulate(res, showindex=True, headers=map(str, range(res.shape[1])), floatfmt=\".4e\"))"
   ]
  },
  {
   "cell_type": "code",
   "execution_count": 180,
   "id": "7d2b4197",
   "metadata": {
    "ExecuteTime": {
     "end_time": "2021-09-16T02:20:28.763360Z",
     "start_time": "2021-09-16T02:20:28.716898Z"
    },
    "scrolled": true
   },
   "outputs": [
    {
     "name": "stdout",
     "output_type": "stream",
     "text": [
      "              0            1            2            3            4            5            6            7            8\n",
      "--  -----------  -----------  -----------  -----------  -----------  -----------  -----------  -----------  -----------\n",
      " 0  -2.0000e+00   4.5963e-05   1.8200e-07   1.2780e-05   5.6550e-08   1.0983e-09   8.0132e-12   1.5195e-10   1.6994e-11\n",
      " 1  -2.0000e+00  -2.0000e+00   5.2833e-03   6.1762e-03   3.6189e-05   8.0760e-07   7.8919e-09   5.6490e-08   6.3251e-09\n",
      " 2  -2.0000e+00  -2.0000e+00  -2.0000e+00   9.7676e-03   3.9634e-04   2.3017e-05   3.1478e-07   4.1797e-06   5.0128e-07\n",
      " 3  -2.0000e+00  -2.0000e+00  -2.0000e+00  -2.0000e+00   6.9257e-03   1.7007e-04   1.5843e-06   1.1390e-05   1.2253e-06\n",
      " 4  -2.0000e+00  -2.0000e+00  -2.0000e+00  -2.0000e+00  -2.0000e+00   1.1682e-01   8.7523e-04   2.0774e-03   3.4875e-04\n",
      " 5  -2.0000e+00  -2.0000e+00  -2.0000e+00  -2.0000e+00  -2.0000e+00  -2.0000e+00   5.7881e-03   2.8336e-02   6.3221e-03\n",
      " 6  -2.0000e+00  -2.0000e+00  -2.0000e+00  -2.0000e+00  -2.0000e+00  -2.0000e+00  -2.0000e+00   1.5235e-03   4.8867e-03\n",
      " 7  -2.0000e+00  -2.0000e+00  -2.0000e+00  -2.0000e+00  -2.0000e+00  -2.0000e+00  -2.0000e+00  -2.0000e+00   3.9202e-02\n",
      " 8  -2.0000e+00  -2.0000e+00  -2.0000e+00  -2.0000e+00  -2.0000e+00  -2.0000e+00  -2.0000e+00  -2.0000e+00  -2.0000e+00\n"
     ]
    }
   ],
   "source": [
    "# local_results_eff['1->0']\n",
    "res = local_results_eff['0->1']['result_YX']\n",
    "print(tabulate.tabulate(res, showindex=True, headers=map(str, range(res.shape[1])), floatfmt=\".4e\"))"
   ]
  },
  {
   "cell_type": "code",
   "execution_count": 176,
   "id": "29bfdec0",
   "metadata": {
    "ExecuteTime": {
     "end_time": "2021-09-16T02:20:20.316907Z",
     "start_time": "2021-09-16T02:20:20.268654Z"
    },
    "code_folding": []
   },
   "outputs": [
    {
     "ename": "KeyError",
     "evalue": "'result_YX'",
     "output_type": "error",
     "traceback": [
      "\u001b[0;31m---------------------------------------------------------------------------\u001b[0m",
      "\u001b[0;31mKeyError\u001b[0m                                  Traceback (most recent call last)",
      "\u001b[0;32m<ipython-input-176-d2f1200f66b0>\u001b[0m in \u001b[0;36m<module>\u001b[0;34m\u001b[0m\n\u001b[1;32m      1\u001b[0m \u001b[0;32mfor\u001b[0m \u001b[0mk\u001b[0m \u001b[0;32min\u001b[0m \u001b[0mlocal_results_eff\u001b[0m\u001b[0;34m.\u001b[0m\u001b[0mkeys\u001b[0m\u001b[0;34m(\u001b[0m\u001b[0;34m)\u001b[0m\u001b[0;34m:\u001b[0m\u001b[0;34m\u001b[0m\u001b[0;34m\u001b[0m\u001b[0m\n\u001b[0;32m----> 2\u001b[0;31m     \u001b[0msame\u001b[0m \u001b[0;34m=\u001b[0m \u001b[0;34m(\u001b[0m\u001b[0mnp\u001b[0m\u001b[0;34m.\u001b[0m\u001b[0mall\u001b[0m\u001b[0;34m(\u001b[0m\u001b[0mnp\u001b[0m\u001b[0;34m.\u001b[0m\u001b[0mabs\u001b[0m\u001b[0;34m(\u001b[0m\u001b[0mlocal_results_eff\u001b[0m\u001b[0;34m[\u001b[0m\u001b[0mk\u001b[0m\u001b[0;34m]\u001b[0m\u001b[0;34m[\u001b[0m\u001b[0;34m'result_YX'\u001b[0m\u001b[0;34m]\u001b[0m \u001b[0;34m-\u001b[0m \u001b[0mlocal_results_dy\u001b[0m\u001b[0;34m[\u001b[0m\u001b[0mk\u001b[0m\u001b[0;34m]\u001b[0m\u001b[0;34m[\u001b[0m\u001b[0;34m'result_YX'\u001b[0m\u001b[0;34m]\u001b[0m\u001b[0;34m)\u001b[0m \u001b[0;34m<\u001b[0m \u001b[0;36m1e-10\u001b[0m\u001b[0;34m)\u001b[0m\u001b[0;34m)\u001b[0m\u001b[0;34m\u001b[0m\u001b[0;34m\u001b[0m\u001b[0m\n\u001b[0m\u001b[1;32m      3\u001b[0m     \u001b[0;32mif\u001b[0m \u001b[0;32mnot\u001b[0m \u001b[0msame\u001b[0m\u001b[0;34m:\u001b[0m\u001b[0;34m\u001b[0m\u001b[0;34m\u001b[0m\u001b[0m\n\u001b[1;32m      4\u001b[0m         \u001b[0mprint\u001b[0m\u001b[0;34m(\u001b[0m\u001b[0;34m\"Not same within error of 1e-10\"\u001b[0m\u001b[0;34m,\u001b[0m \u001b[0mk\u001b[0m\u001b[0;34m)\u001b[0m\u001b[0;34m\u001b[0m\u001b[0;34m\u001b[0m\u001b[0m\n\u001b[1;32m      5\u001b[0m         \u001b[0;32mbreak\u001b[0m\u001b[0;34m\u001b[0m\u001b[0;34m\u001b[0m\u001b[0m\n",
      "\u001b[0;31mKeyError\u001b[0m: 'result_YX'"
     ]
    }
   ],
   "source": [
    "for k in local_results_eff.keys():\n",
    "    same = (np.all(np.abs(local_results_eff[k]['result_YX'] - local_results_dy[k]['result_YX']) < 1e-10))\n",
    "    if not same:\n",
    "        print(\"Not same within error of 1e-10\", k)\n",
    "        break"
   ]
  },
  {
   "cell_type": "code",
   "execution_count": 53,
   "id": "e04894a6",
   "metadata": {
    "ExecuteTime": {
     "end_time": "2021-09-15T08:53:33.130207Z",
     "start_time": "2021-09-15T08:53:33.016488Z"
    }
   },
   "outputs": [
    {
     "data": {
      "text/plain": [
       "array([[0.00000000e+00, 2.16635995e-05, 6.78155900e-08, 2.64255427e-06,\n",
       "        1.23793649e-08, 2.33925671e-10, 1.72725528e-12, 2.57595536e-11,\n",
       "        7.06334695e-24],\n",
       "       [0.00000000e+00, 0.00000000e+00, 1.60031128e-03, 9.79837991e-04,\n",
       "        6.92473155e-06, 1.53682930e-07, 1.54879489e-09, 8.55870495e-09,\n",
       "        1.37063828e-21],\n",
       "       [0.00000000e+00, 0.00000000e+00, 0.00000000e+00, 2.70023147e-03,\n",
       "        8.84858651e-05, 4.55972138e-06, 6.31405452e-08, 5.84641556e-07,\n",
       "        0.00000000e+00],\n",
       "       [0.00000000e+00, 0.00000000e+00, 0.00000000e+00, 0.00000000e+00,\n",
       "        2.01822501e-03, 4.11111545e-05, 3.74769564e-07, 1.82733873e-06,\n",
       "        3.04931861e-19],\n",
       "       [0.00000000e+00, 0.00000000e+00, 0.00000000e+00, 0.00000000e+00,\n",
       "        0.00000000e+00, 1.78822566e-02, 1.79766340e-04, 2.63800221e-04,\n",
       "        8.30498864e-17],\n",
       "       [0.00000000e+00, 0.00000000e+00, 0.00000000e+00, 0.00000000e+00,\n",
       "        0.00000000e+00, 0.00000000e+00, 1.73095090e-03, 3.36974788e-03,\n",
       "        1.84227633e-15],\n",
       "       [0.00000000e+00, 0.00000000e+00, 0.00000000e+00, 0.00000000e+00,\n",
       "        0.00000000e+00, 0.00000000e+00, 0.00000000e+00, 5.37291911e-04,\n",
       "        2.99239800e-16],\n",
       "       [0.00000000e+00, 0.00000000e+00, 0.00000000e+00, 0.00000000e+00,\n",
       "        0.00000000e+00, 0.00000000e+00, 0.00000000e+00, 0.00000000e+00,\n",
       "        6.45317133e-16],\n",
       "       [0.00000000e+00, 0.00000000e+00, 0.00000000e+00, 0.00000000e+00,\n",
       "        0.00000000e+00, 0.00000000e+00, 0.00000000e+00, 0.00000000e+00,\n",
       "        0.00000000e+00]])"
      ]
     },
     "execution_count": 53,
     "metadata": {},
     "output_type": "execute_result"
    }
   ],
   "source": [
    "np.abs(local_results_eff[k]['result_YX'] - local_results_dy[k]['result_YX'])"
   ]
  },
  {
   "cell_type": "code",
   "execution_count": 178,
   "id": "b1e845ac",
   "metadata": {
    "ExecuteTime": {
     "end_time": "2021-09-16T02:20:23.296409Z",
     "start_time": "2021-09-16T02:20:23.253055Z"
    }
   },
   "outputs": [],
   "source": [
    "for k in local_results_eff.keys():\n",
    "    ints_eff = sorted(local_results_eff[k]['intervals'])\n",
    "    ints_dy = sorted([i[1] for i in local_results_dy[k][\"intervals\"]])\n",
    "    if not ints_eff==ints_dy:\n",
    "        print(\"Not same intervals\", k)\n",
    "        break"
   ]
  },
  {
   "cell_type": "code",
   "execution_count": 55,
   "id": "4575d206",
   "metadata": {
    "ExecuteTime": {
     "end_time": "2021-09-15T08:54:12.738736Z",
     "start_time": "2021-09-15T08:54:12.644093Z"
    },
    "scrolled": true
   },
   "outputs": [
    {
     "data": {
      "text/plain": [
       "([], [(2000, 2500)])"
      ]
     },
     "execution_count": 55,
     "metadata": {},
     "output_type": "execute_result"
    }
   ],
   "source": [
    "ints_eff, ints_dy"
   ]
  },
  {
   "cell_type": "code",
   "execution_count": 122,
   "id": "da060bfd",
   "metadata": {
    "ExecuteTime": {
     "end_time": "2021-09-16T01:34:00.417058Z",
     "start_time": "2021-09-16T01:34:00.379912Z"
    }
   },
   "outputs": [
    {
     "name": "stdout",
     "output_type": "stream",
     "text": [
      "lagged transform: (4000, 2) --> (3995, 11)\n"
     ]
    }
   ],
   "source": [
    "feature=0\n",
    "target=1\n",
    "x = datasets[0].to_numpy()[:, [target, feature]]\n",
    "lag = 5\n",
    "step=500\n",
    "\n",
    "from effcause_lib.granger import get_lagged_data, fit_regression_rolling\n",
    "dta, dtaown, dtajoint = get_lagged_data(x, lag, True, True)"
   ]
  },
  {
   "cell_type": "code",
   "execution_count": 121,
   "id": "d4e91299",
   "metadata": {
    "ExecuteTime": {
     "end_time": "2021-09-16T01:33:58.807259Z",
     "start_time": "2021-09-16T01:33:58.759806Z"
    }
   },
   "outputs": [
    {
     "data": {
      "text/plain": [
       "(1.7501336726386523, 0.12529846552418225, 184.0, 5)"
      ]
     },
     "execution_count": 121,
     "metadata": {},
     "output_type": "execute_result"
    }
   ],
   "source": [
    "from statsmodels.regression.linear_model import OLS\n",
    "from scipy import stats\n",
    "end = 195\n",
    "res2down = OLS(dta[:end, 0], dtaown[:end, :]).fit()\n",
    "res2djoint = OLS(dta[:end, 0], dtajoint[:end, :]).fit()\n",
    "\n",
    "fgc1 = (res2down.ssr - res2djoint.ssr) / res2djoint.ssr / lag * res2djoint.df_resid\n",
    "\n",
    "(fgc1,stats.f.sf(fgc1, lag, res2djoint.df_resid), res2djoint.df_resid,lag,)"
   ]
  },
  {
   "cell_type": "code",
   "execution_count": 155,
   "id": "8de6118f",
   "metadata": {
    "ExecuteTime": {
     "end_time": "2021-09-16T02:10:53.572336Z",
     "start_time": "2021-09-16T02:10:53.389113Z"
    }
   },
   "outputs": [
    {
     "name": "stdout",
     "output_type": "stream",
     "text": [
      "data                   19         494         994        1494        1994        2494        2994        3494        3994\n",
      "-------------  ----------  ----------  ----------  ----------  ----------  ----------  ----------  ----------  ----------\n",
      "YX_res2down    9.5414e+00  2.0012e+02  4.8487e+02  9.2647e+02  1.2275e+03  1.3939e+03  1.6087e+03  2.2469e+03  2.5012e+03\n",
      "YX_res2djoint  2.9943e+00  1.8911e+02  4.6578e+02  9.0775e+02  1.2018e+03  1.3659e+03  1.5762e+03  2.2119e+03  2.4643e+03\n",
      "sse_part=200.1194593276996\n",
      "sse_full=189.10635472861162\n",
      "lag=5\n",
      "df_resid_full=484.0\n",
      "nobs_joint=495\n",
      "nobs_own=495\n",
      "index=-3501\n",
      "pvalue= 4.596291600133859e-05\n"
     ]
    }
   ],
   "source": [
    "YX_res2down_all, YX_res2djoint_all = fit_regression_rolling(\n",
    "    dta, dtaown, dtajoint, lag, step, rolling_method='zyf'\n",
    ")\n",
    "nonzero_indices = np.logical_not(np.isnan(YX_res2down_all.ssr)).nonzero()[0]\n",
    "print(tabulate.tabulate([[\"YX_res2down\"]+list(YX_res2down_all.ssr[nonzero_indices]),\n",
    "                         [\"YX_res2djoint\"]+list(YX_res2djoint_all.ssr[nonzero_indices])], \n",
    "                         headers=[\"data\"]+list(map(str, nonzero_indices)), \n",
    "                        floatfmt=\".4e\"))\n",
    "\n",
    "index = 500  - 4000 -1\n",
    "fgc1 = (\n",
    "    (YX_res2down_all.ssr[index] - YX_res2djoint_all.ssr[index])\n",
    "    / YX_res2djoint_all.ssr[index]\n",
    "    / lag\n",
    "    * YX_res2djoint_all.df_resid[index]\n",
    ")\n",
    "p_value = stats.f.sf(fgc1, lag, YX_res2djoint_all.df_resid[index])\n",
    "\n",
    "print(\"sse_part={}\\nsse_full={}\\nlag={}\\ndf_resid_full={}\\n\"\n",
    "      \"nobs_joint={}\\n\"\n",
    "      \"nobs_own={}\\n\"\n",
    "      \"index={}\".format(\n",
    "    YX_res2down_all.ssr[index], YX_res2djoint_all.ssr[index],\n",
    "    lag, YX_res2djoint_all.df_resid[index], \n",
    "    YX_res2djoint_all.nobs[index], \n",
    "    YX_res2down_all.nobs[index],\n",
    "    index\n",
    "))\n",
    "print(\"pvalue=\", p_value)"
   ]
  },
  {
   "cell_type": "code",
   "execution_count": 181,
   "id": "3fd6b88e",
   "metadata": {
    "ExecuteTime": {
     "end_time": "2021-09-17T03:36:35.968848Z",
     "start_time": "2021-09-17T03:36:35.831924Z"
    }
   },
   "outputs": [
    {
     "name": "stdout",
     "output_type": "stream",
     "text": [
      "data                  494         994        1494        1994        2494        2994        3494        3994\n",
      "-------------  ----------  ----------  ----------  ----------  ----------  ----------  ----------  ----------\n",
      "YX_res2down    2.0012e+02  4.8487e+02  9.2647e+02  1.2275e+03  1.3939e+03  1.6087e+03  2.2469e+03  2.5012e+03\n",
      "YX_res2djoint  1.8911e+02  4.6578e+02  9.0775e+02  1.2018e+03  1.3659e+03  1.5762e+03  2.2119e+03  2.4643e+03\n",
      "sse_part=200.11945932769964\n",
      "sse_full=189.10635472861162\n",
      "lag=5\n",
      "df_resid_full=484.0\n",
      "nobs_joint=495\n",
      "nobs_own=495\n",
      "index=-3501\n",
      "pvalue= 4.5962916001336215e-05\n"
     ]
    }
   ],
   "source": [
    "YX_res2down_all, YX_res2djoint_all = fit_regression_rolling(\n",
    "    dta, dtaown, dtajoint, lag, step, rolling_method='pyc'\n",
    ")\n",
    "nonzero_indices = np.logical_not(np.isnan(YX_res2down_all.ssr)).nonzero()[0]\n",
    "print(tabulate.tabulate([[\"YX_res2down\"]+list(YX_res2down_all.ssr[nonzero_indices]),\n",
    "                         [\"YX_res2djoint\"]+list(YX_res2djoint_all.ssr[nonzero_indices])], \n",
    "                         headers=[\"data\"]+list(map(str, nonzero_indices)), \n",
    "                        floatfmt=\".4e\"))\n",
    "\n",
    "index = 500  - 4000 -1\n",
    "fgc1 = (\n",
    "    (YX_res2down_all.ssr[index] - YX_res2djoint_all.ssr[index])\n",
    "    / YX_res2djoint_all.ssr[index]\n",
    "    / lag\n",
    "    * YX_res2djoint_all.df_resid[index]\n",
    ")\n",
    "p_value = stats.f.sf(fgc1, lag, YX_res2djoint_all.df_resid[index])\n",
    "\n",
    "print(\"sse_part={}\\nsse_full={}\\nlag={}\\ndf_resid_full={}\\n\"\n",
    "      \"nobs_joint={}\\n\"\n",
    "      \"nobs_own={}\\n\"\n",
    "      \"index={}\".format(\n",
    "    YX_res2down_all.ssr[index], YX_res2djoint_all.ssr[index],\n",
    "    lag, YX_res2djoint_all.df_resid[index], \n",
    "    YX_res2djoint_all.nobs[index], \n",
    "    YX_res2down_all.nobs[index],\n",
    "    index\n",
    "))\n",
    "print(\"pvalue=\", p_value)"
   ]
  },
  {
   "cell_type": "code",
   "execution_count": 195,
   "id": "53c12f02",
   "metadata": {
    "ExecuteTime": {
     "end_time": "2021-09-17T04:26:08.566683Z",
     "start_time": "2021-09-17T04:26:08.501524Z"
    }
   },
   "outputs": [
    {
     "data": {
      "text/plain": [
       "array([0.05823762, 0.04097355, 0.02061762, 0.02142373, 0.02052292,\n",
       "       0.02059963, 0.01581135, 0.01498902])"
      ]
     },
     "execution_count": 195,
     "metadata": {},
     "output_type": "execute_result"
    }
   ],
   "source": [
    "(YX_res2down_all.ssr[nonzero_indices] - YX_res2djoint_all.ssr[nonzero_indices]) /  YX_res2djoint_all.ssr[nonzero_indices]"
   ]
  },
  {
   "cell_type": "code",
   "execution_count": 191,
   "id": "ec07f542",
   "metadata": {
    "ExecuteTime": {
     "end_time": "2021-09-17T04:25:36.088540Z",
     "start_time": "2021-09-17T04:25:36.037966Z"
    }
   },
   "outputs": [
    {
     "ename": "TypeError",
     "evalue": "'numpy.float64' object is not iterable",
     "output_type": "error",
     "traceback": [
      "\u001b[0;31m---------------------------------------------------------------------------\u001b[0m",
      "\u001b[0;31mTypeError\u001b[0m                                 Traceback (most recent call last)",
      "\u001b[0;32m<ipython-input-191-719707724869>\u001b[0m in \u001b[0;36m<module>\u001b[0;34m\u001b[0m\n\u001b[0;32m----> 1\u001b[0;31m \u001b[0mprint\u001b[0m\u001b[0;34m(\u001b[0m\u001b[0mtabulate\u001b[0m\u001b[0;34m.\u001b[0m\u001b[0mtabulate\u001b[0m\u001b[0;34m(\u001b[0m \u001b[0mlist\u001b[0m\u001b[0;34m(\u001b[0m\u001b[0;34m(\u001b[0m\u001b[0mYX_res2down_all\u001b[0m\u001b[0;34m.\u001b[0m\u001b[0mssr\u001b[0m\u001b[0;34m[\u001b[0m\u001b[0mnonzero_indices\u001b[0m\u001b[0;34m]\u001b[0m \u001b[0;34m-\u001b[0m \u001b[0mYX_res2djoint_all\u001b[0m\u001b[0;34m.\u001b[0m\u001b[0mssr\u001b[0m\u001b[0;34m[\u001b[0m\u001b[0mnonzero_indices\u001b[0m\u001b[0;34m]\u001b[0m\u001b[0;34m)\u001b[0m \u001b[0;34m/\u001b[0m \u001b[0mYX_res2djoint_all\u001b[0m\u001b[0;34m.\u001b[0m\u001b[0mssr\u001b[0m\u001b[0;34m[\u001b[0m\u001b[0mnonzero_indices\u001b[0m\u001b[0;34m]\u001b[0m\u001b[0;34m)\u001b[0m \u001b[0;34m)\u001b[0m\u001b[0;34m)\u001b[0m\u001b[0;34m\u001b[0m\u001b[0;34m\u001b[0m\u001b[0m\n\u001b[0m",
      "\u001b[0;32m/mnt/hdd.data/effcause-env/lib/python3.7/site-packages/tabulate.py\u001b[0m in \u001b[0;36mtabulate\u001b[0;34m(tabular_data, headers, tablefmt, floatfmt, numalign, stralign, missingval, showindex, disable_numparse, colalign)\u001b[0m\n\u001b[1;32m   1405\u001b[0m         \u001b[0mtabular_data\u001b[0m \u001b[0;34m=\u001b[0m \u001b[0;34m[\u001b[0m\u001b[0;34m]\u001b[0m\u001b[0;34m\u001b[0m\u001b[0;34m\u001b[0m\u001b[0m\n\u001b[1;32m   1406\u001b[0m     list_of_lists, headers = _normalize_tabular_data(\n\u001b[0;32m-> 1407\u001b[0;31m         \u001b[0mtabular_data\u001b[0m\u001b[0;34m,\u001b[0m \u001b[0mheaders\u001b[0m\u001b[0;34m,\u001b[0m \u001b[0mshowindex\u001b[0m\u001b[0;34m=\u001b[0m\u001b[0mshowindex\u001b[0m\u001b[0;34m\u001b[0m\u001b[0;34m\u001b[0m\u001b[0m\n\u001b[0m\u001b[1;32m   1408\u001b[0m     )\n\u001b[1;32m   1409\u001b[0m \u001b[0;34m\u001b[0m\u001b[0m\n",
      "\u001b[0;32m/mnt/hdd.data/effcause-env/lib/python3.7/site-packages/tabulate.py\u001b[0m in \u001b[0;36m_normalize_tabular_data\u001b[0;34m(tabular_data, headers, showindex)\u001b[0m\n\u001b[1;32m   1083\u001b[0m \u001b[0;34m\u001b[0m\u001b[0m\n\u001b[1;32m   1084\u001b[0m     \u001b[0mheaders\u001b[0m \u001b[0;34m=\u001b[0m \u001b[0mlist\u001b[0m\u001b[0;34m(\u001b[0m\u001b[0mmap\u001b[0m\u001b[0;34m(\u001b[0m\u001b[0m_text_type\u001b[0m\u001b[0;34m,\u001b[0m \u001b[0mheaders\u001b[0m\u001b[0;34m)\u001b[0m\u001b[0;34m)\u001b[0m\u001b[0;34m\u001b[0m\u001b[0;34m\u001b[0m\u001b[0m\n\u001b[0;32m-> 1085\u001b[0;31m     \u001b[0mrows\u001b[0m \u001b[0;34m=\u001b[0m \u001b[0mlist\u001b[0m\u001b[0;34m(\u001b[0m\u001b[0mmap\u001b[0m\u001b[0;34m(\u001b[0m\u001b[0mlist\u001b[0m\u001b[0;34m,\u001b[0m \u001b[0mrows\u001b[0m\u001b[0;34m)\u001b[0m\u001b[0;34m)\u001b[0m\u001b[0;34m\u001b[0m\u001b[0;34m\u001b[0m\u001b[0m\n\u001b[0m\u001b[1;32m   1086\u001b[0m \u001b[0;34m\u001b[0m\u001b[0m\n\u001b[1;32m   1087\u001b[0m     \u001b[0;31m# add or remove an index column\u001b[0m\u001b[0;34m\u001b[0m\u001b[0;34m\u001b[0m\u001b[0;34m\u001b[0m\u001b[0m\n",
      "\u001b[0;31mTypeError\u001b[0m: 'numpy.float64' object is not iterable"
     ]
    }
   ],
   "source": [
    "print(tabulate.tabulate( list((YX_res2down_all.ssr[nonzero_indices] - YX_res2djoint_all.ssr[nonzero_indices]) / YX_res2djoint_all.ssr[nonzero_indices]) ))"
   ]
  },
  {
   "cell_type": "code",
   "execution_count": 189,
   "id": "5f452444",
   "metadata": {
    "ExecuteTime": {
     "end_time": "2021-09-17T03:37:18.680926Z",
     "start_time": "2021-09-17T03:37:18.643410Z"
    },
    "scrolled": false
   },
   "outputs": [
    {
     "data": {
      "text/plain": [
       "0.00017780612063471784"
      ]
     },
     "execution_count": 189,
     "metadata": {},
     "output_type": "execute_result"
    }
   ],
   "source": [
    "stats.f.sf(5, lag, YX_res2djoint_all.df_resid[index])"
   ]
  },
  {
   "cell_type": "code",
   "execution_count": 132,
   "id": "e4eee6eb",
   "metadata": {
    "ExecuteTime": {
     "end_time": "2021-09-16T01:43:49.221134Z",
     "start_time": "2021-09-16T01:43:49.185093Z"
    },
    "scrolled": true
   },
   "outputs": [
    {
     "data": {
      "text/plain": [
       "3995"
      ]
     },
     "execution_count": 132,
     "metadata": {},
     "output_type": "execute_result"
    }
   ],
   "source": [
    "len(YX_res2down_all.ssr)"
   ]
  },
  {
   "cell_type": "code",
   "execution_count": 131,
   "id": "9f9812db",
   "metadata": {
    "ExecuteTime": {
     "end_time": "2021-09-16T01:40:03.043061Z",
     "start_time": "2021-09-16T01:40:02.991832Z"
    }
   },
   "outputs": [
    {
     "name": "stdout",
     "output_type": "stream",
     "text": [
      "sse_part=200.11945932769964\n",
      "sse_full=189.10635472861162\n",
      "lag=5\n",
      "df_resid_full=484.0\n",
      "nobs_joint=495\n",
      "nobs_own=495\n",
      "index=-3501\n",
      "pvalue= 4.5962916001336215e-05\n"
     ]
    }
   ],
   "source": [
    "index = 500  - 4000 -1\n",
    "fgc1 = (\n",
    "    (YX_res2down_all.ssr[index] - YX_res2djoint_all.ssr[index])\n",
    "    / YX_res2djoint_all.ssr[index]\n",
    "    / lag\n",
    "    * YX_res2djoint_all.df_resid[index]\n",
    ")\n",
    "p_value = stats.f.sf(fgc1, lag, YX_res2djoint_all.df_resid[index])\n",
    "\n",
    "print(\"sse_part={}\\nsse_full={}\\nlag={}\\ndf_resid_full={}\\n\"\n",
    "      \"nobs_joint={}\\n\"\n",
    "      \"nobs_own={}\\n\"\n",
    "      \"index={}\".format(\n",
    "    YX_res2down_all.ssr[index], YX_res2djoint_all.ssr[index],\n",
    "    lag, YX_res2djoint_all.df_resid[index], \n",
    "    YX_res2djoint_all.nobs[index], \n",
    "    YX_res2down_all.nobs[index],\n",
    "    index\n",
    "))\n",
    "print(\"pvalue=\", p_value)\n"
   ]
  },
  {
   "cell_type": "code",
   "execution_count": null,
   "id": "a642c7b4",
   "metadata": {
    "ExecuteTime": {
     "end_time": "2021-09-13T07:31:06.714781Z",
     "start_time": "2021-09-13T07:31:06.678810Z"
    }
   },
   "outputs": [],
   "source": [
    "np.logical_not(np.isnan(YX_res2djoint_all.df_resid)).nonzero()"
   ]
  },
  {
   "cell_type": "code",
   "execution_count": null,
   "id": "8e80fd51",
   "metadata": {
    "ExecuteTime": {
     "end_time": "2021-09-13T07:33:49.690980Z",
     "start_time": "2021-09-13T07:33:49.650517Z"
    }
   },
   "outputs": [],
   "source": [
    "from effcause_lib.rolling_step import RollingOLS\n",
    "rolling2down = RollingOLS(\n",
    "    dta[:, 0], dtaown, window=len(dta), step=step, expanding=True\n",
    ")\n",
    "res2down = rolling2down.fit()\n",
    "print(np.logical_not(np.isnan(res2down.ssr)).nonzero())"
   ]
  },
  {
   "cell_type": "code",
   "execution_count": null,
   "id": "501dae5c",
   "metadata": {
    "ExecuteTime": {
     "end_time": "2021-09-13T07:37:40.495319Z",
     "start_time": "2021-09-13T07:37:40.447180Z"
    }
   },
   "outputs": [],
   "source": [
    "dtaown.shape"
   ]
  },
  {
   "cell_type": "code",
   "execution_count": null,
   "id": "db019ac3",
   "metadata": {
    "ExecuteTime": {
     "end_time": "2021-09-13T08:11:16.811872Z",
     "start_time": "2021-09-13T08:11:16.663427Z"
    }
   },
   "outputs": [],
   "source": [
    "rolling2down._window"
   ]
  },
  {
   "cell_type": "code",
   "execution_count": null,
   "id": "3fcfc4dc",
   "metadata": {
    "ExecuteTime": {
     "end_time": "2021-09-13T07:42:27.721925Z",
     "start_time": "2021-09-13T07:42:26.519327Z"
    }
   },
   "outputs": [],
   "source": [
    "rolling2down._wy"
   ]
  },
  {
   "cell_type": "code",
   "execution_count": null,
   "id": "c47dee5c",
   "metadata": {
    "ExecuteTime": {
     "end_time": "2021-09-13T04:10:03.707955Z",
     "start_time": "2021-09-13T04:10:03.666211Z"
    }
   },
   "outputs": [],
   "source": [
    ".fit()\n",
    "res2djoint_all = RollingOLS(\n",
    "    dta[:, 0], dtajoint, window=len(dta), step=step, expanding=True\n",
    ").fit()"
   ]
  },
  {
   "cell_type": "code",
   "execution_count": null,
   "id": "b691dab5",
   "metadata": {
    "ExecuteTime": {
     "end_time": "2021-09-13T07:45:11.972225Z",
     "start_time": "2021-09-13T07:45:11.939152Z"
    }
   },
   "outputs": [],
   "source": [
    "np.ones(10)[:, None]"
   ]
  },
  {
   "cell_type": "code",
   "execution_count": 154,
   "id": "cc34abbd",
   "metadata": {
    "ExecuteTime": {
     "end_time": "2021-09-16T02:10:10.277280Z",
     "start_time": "2021-09-16T02:10:10.235757Z"
    },
    "scrolled": true
   },
   "outputs": [
    {
     "data": {
      "text/plain": [
       "10"
      ]
     },
     "execution_count": 154,
     "metadata": {},
     "output_type": "execute_result"
    }
   ],
   "source": [
    "slice(10,20).start"
   ]
  }
 ],
 "metadata": {
  "kernelspec": {
   "display_name": "effcause-env",
   "language": "python",
   "name": "effcause-env"
  },
  "language_info": {
   "codemirror_mode": {
    "name": "ipython",
    "version": 3
   },
   "file_extension": ".py",
   "mimetype": "text/x-python",
   "name": "python",
   "nbconvert_exporter": "python",
   "pygments_lexer": "ipython3",
   "version": "3.7.5"
  },
  "toc": {
   "base_numbering": 1,
   "nav_menu": {},
   "number_sections": false,
   "sideBar": true,
   "skip_h1_title": false,
   "title_cell": "Table of Contents",
   "title_sidebar": "Contents",
   "toc_cell": false,
   "toc_position": {},
   "toc_section_display": true,
   "toc_window_display": false
  }
 },
 "nbformat": 4,
 "nbformat_minor": 5
}
